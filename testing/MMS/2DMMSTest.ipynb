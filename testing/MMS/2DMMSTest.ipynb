{
 "cells": [
  {
   "cell_type": "code",
   "execution_count": null,
   "metadata": {},
   "outputs": [],
   "source": [
    "using LinearAlgebra\n",
    "using Plots\n",
    "\n",
    "using Pkg\n",
    "Pkg.activate(\".\")\n",
    "using SBP_operators"
   ]
  },
  {
   "cell_type": "markdown",
   "metadata": {},
   "source": []
  },
  {
   "cell_type": "code",
   "execution_count": null,
   "metadata": {},
   "outputs": [],
   "source": [
    "#=== Problem setup ===#\n",
    "𝒟x = [0.0,2π]\n",
    "𝒟y = [0.0,2π]\n",
    "nx = 41\n",
    "ny = 41\n",
    "Dom = Grid2D(𝒟x,𝒟y,nx,ny)\n",
    "\n",
    "Δt = 0.1* min(Dom.Δx^2,Dom.Δy^2)\n",
    "t_f = 100Δt\n"
   ]
  },
  {
   "cell_type": "markdown",
   "metadata": {},
   "source": []
  },
  {
   "cell_type": "code",
   "execution_count": null,
   "metadata": {},
   "outputs": [],
   "source": [
    "cx = cy = 0.0\n",
    "K = 1.0\n",
    "\n",
    "ũ(x,y,t) = cos(2π*t) * sin(2π*x + cx) * sin(2π*y + cy) #Solution\n",
    "\n",
    "ũ₀(x,y) = sin(2π*x + cx) * sin(2π*y + cy) #Initial condition\n",
    "\n",
    "Bxũ(y,t) = cos(2π*t) * sin(cx) * sin(2π*y + cy) #Boundary condition x\n",
    "Byũ(x,t) = cos(2π*t) * sin(2π*x + cx) * sin(cy) #Boundary condition y\n",
    "\n",
    "F(x,y,t) = -2π*sin(2π*t)*sin(2π*x+cx)*sin(2π*y+cy) - \n",
    "    K * 16π^4 * cos(2π*t)*sin(2π*x+cx)*sin(2π*y+cy) #F = ∂ₜũ - K∇ũ \n",
    "\n"
   ]
  },
  {
   "cell_type": "markdown",
   "metadata": {},
   "source": []
  },
  {
   "cell_type": "code",
   "execution_count": 1,
   "metadata": {},
   "outputs": [
    {
     "ename": "UndefVarError",
     "evalue": "UndefVarError: Dom not defined",
     "output_type": "error",
     "traceback": [
      "UndefVarError: Dom not defined\n",
      "\n",
      "Stacktrace:\n",
      " [1] top-level scope\n",
      "   @ c:\\Users\\darea\\Documents\\Git-stuff\\SBP_operators\\testing\\MMS\\2DMMSTest.ipynb:1"
     ]
    }
   ],
   "source": [
    "nt = 100\n",
    "u_MMS = zeros(Dom.nx,Dom.ny,nt)\n",
    "tarry = collect(range(0.0,t_f,step=Δt))\n",
    "for j = 1:Dom.nx\n",
    "    for i = 1:Dom.ny\n",
    "        for k = 1:101\n",
    "            u_MMS[i,j,k] = ũ(Dom.gridx[i],Dom.gridy[j],tarry[k])\n",
    "        end\n",
    "    end\n",
    "end\n",
    "\n",
    "surface(Dom.gridy,Dom.gridx,u_MMS[:,:,end])"
   ]
  },
  {
   "cell_type": "markdown",
   "metadata": {},
   "source": []
  },
  {
   "cell_type": "code",
   "execution_count": null,
   "metadata": {},
   "outputs": [],
   "source": [
    "# Diffusion coefficients\n",
    "kx = ky = zeros(Float64,nx,ny) .+ 1.0;\n",
    "\n",
    "# Boundary conditions from the MMS\n",
    "BoundaryLeft = Boundary(Dirichlet,Bxũ,Left,1)\n",
    "BoundaryRight = Boundary(Dirichlet,Bxũ,Right,1)\n",
    "BoundaryUp = Boundary(Dirichlet,Byũ,Up,2)\n",
    "BoundaryDown = Boundary(Dirichlet,Byũ,Down,2)\n",
    "\n",
    "order = 2\n",
    "method = :cgie\n",
    "\n",
    "P = VariableCoefficientPDE2D(ũ₀,kx,ky,order,BoundaryLeft,BoundaryRight,BoundaryUp,BoundaryDown)\n"
   ]
  },
  {
   "cell_type": "markdown",
   "metadata": {},
   "source": []
  },
  {
   "cell_type": "code",
   "execution_count": null,
   "metadata": {},
   "outputs": [],
   "source": []
  }
 ],
 "metadata": {
  "kernelspec": {
   "display_name": "Julia 1.8.1",
   "language": "julia",
   "name": "julia-1.8"
  },
  "language_info": {
   "file_extension": ".jl",
   "mimetype": "application/julia",
   "name": "julia",
   "version": "1.8.1"
  },
  "orig_nbformat": 4,
  "vscode": {
   "interpreter": {
    "hash": "d3e10ef16274dd72e574b8fa73b58450b957d8421a2901baded3cca26fcf5dda"
   }
  }
 },
 "nbformat": 4,
 "nbformat_minor": 2
}
