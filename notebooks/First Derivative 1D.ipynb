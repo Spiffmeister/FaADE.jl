{
 "cells": [
  {
   "cell_type": "code",
   "execution_count": 8,
   "metadata": {},
   "outputs": [
    {
     "ename": "ArgumentError",
     "evalue": "ArgumentError: Package SBP_operators not found in current path:\n- Run `import Pkg; Pkg.add(\"SBP_operators\")` to install the SBP_operators package.\n",
     "output_type": "error",
     "traceback": [
      "ArgumentError: Package SBP_operators not found in current path:\n",
      "- Run `import Pkg; Pkg.add(\"SBP_operators\")` to install the SBP_operators package.\n",
      "\n",
      "\n",
      "Stacktrace:\n",
      "  [1] require(into::Module, mod::Symbol)\n",
      "    @ Base .\\loading.jl:871\n",
      "  [2] eval\n",
      "    @ .\\boot.jl:360 [inlined]\n",
      "  [3] include_string(mapexpr::typeof(REPL.softscope), mod::Module, code::String, filename::String)\n",
      "    @ Base .\\loading.jl:1094\n",
      "  [4] #invokelatest#2\n",
      "    @ .\\essentials.jl:708 [inlined]\n",
      "  [5] invokelatest\n",
      "    @ .\\essentials.jl:706 [inlined]\n",
      "  [6] (::VSCodeServer.var\"#146#147\"{VSCodeServer.NotebookRunCellArguments, String})()\n",
      "    @ VSCodeServer c:\\Users\\Spiff\\.vscode\\extensions\\julialang.language-julia-1.5.6\\scripts\\packages\\VSCodeServer\\src\\serve_notebook.jl:18\n",
      "  [7] withpath(f::VSCodeServer.var\"#146#147\"{VSCodeServer.NotebookRunCellArguments, String}, path::String)\n",
      "    @ VSCodeServer c:\\Users\\Spiff\\.vscode\\extensions\\julialang.language-julia-1.5.6\\scripts\\packages\\VSCodeServer\\src\\repl.jl:185\n",
      "  [8] notebook_runcell_request(conn::VSCodeServer.JSONRPC.JSONRPCEndpoint{Base.PipeEndpoint, Base.PipeEndpoint}, params::VSCodeServer.NotebookRunCellArguments)\n",
      "    @ VSCodeServer c:\\Users\\Spiff\\.vscode\\extensions\\julialang.language-julia-1.5.6\\scripts\\packages\\VSCodeServer\\src\\serve_notebook.jl:14\n",
      "  [9] dispatch_msg(x::VSCodeServer.JSONRPC.JSONRPCEndpoint{Base.PipeEndpoint, Base.PipeEndpoint}, dispatcher::VSCodeServer.JSONRPC.MsgDispatcher, msg::Dict{String, Any})\n",
      "    @ VSCodeServer.JSONRPC c:\\Users\\Spiff\\.vscode\\extensions\\julialang.language-julia-1.5.6\\scripts\\packages\\JSONRPC\\src\\typed.jl:67\n",
      " [10] serve_notebook(pipename::String; crashreporting_pipename::String)\n",
      "    @ VSCodeServer c:\\Users\\Spiff\\.vscode\\extensions\\julialang.language-julia-1.5.6\\scripts\\packages\\VSCodeServer\\src\\serve_notebook.jl:94\n",
      " [11] top-level scope\n",
      "    @ c:\\Users\\Spiff\\.vscode\\extensions\\julialang.language-julia-1.5.6\\scripts\\notebook\\notebook.jl:12\n",
      " [12] include(mod::Module, _path::String)\n",
      "    @ Base .\\Base.jl:386\n",
      " [13] exec_options(opts::Base.JLOptions)\n",
      "    @ Base .\\client.jl:285\n",
      " [14] _start()\n",
      "    @ Base .\\client.jl:485"
     ]
    }
   ],
   "source": [
    "cd(\"..\")\n",
    "\n",
    "using LinearAlgebra\n",
    "using Plots\n",
    "\n",
    "using Pkg\n",
    "Pkg.activate(\".\")\n",
    "using SBP_operators"
   ]
  },
  {
   "cell_type": "code",
   "execution_count": 5,
   "metadata": {},
   "outputs": [
    {
     "data": {
      "text/plain": [
       "buildgrid (generic function with 1 method)"
      ]
     },
     "metadata": {},
     "output_type": "display_data"
    }
   ],
   "source": [
    "# Just a quick function for building the grid\n",
    "function buildgrid(n)\n",
    "    x = collect(range(0,stop=1,length=n+1))\n",
    "    Δx = x[2]-x[1]\n",
    "    return n, x, Δx\n",
    "end"
   ]
  },
  {
   "cell_type": "markdown",
   "metadata": {},
   "source": [
    "## 2nd order"
   ]
  },
  {
   "cell_type": "code",
   "execution_count": 6,
   "metadata": {},
   "outputs": [
    {
     "data": {
      "text/plain": [
       "11-element Vector{Float64}:\n",
       " 0.0\n",
       " 0.2\n",
       " 0.4\n",
       " 0.6\n",
       " 0.8\n",
       " 1.0\n",
       " 1.2\n",
       " 1.4\n",
       " 1.6\n",
       " 1.8\n",
       " 2.0"
      ]
     },
     "metadata": {},
     "output_type": "display_data"
    }
   ],
   "source": [
    "n, x, Δx = buildgrid(10)\n",
    "\n",
    "∂ₓuₑ = 2x #The exact derivative value"
   ]
  },
  {
   "cell_type": "code",
   "execution_count": 7,
   "metadata": {},
   "outputs": [
    {
     "data": {
      "text/plain": [
       "11-element Vector{Float64}:\n",
       "  0.10000000000000002\n",
       "  0.15000000000000002\n",
       "  0.37499999999999994\n",
       "  0.6125\n",
       "  0.9437499999999999\n",
       "  1.328125\n",
       "  1.7859374999999995\n",
       "  2.3070312500000005\n",
       " -0.3035156250000007\n",
       "  1.6999999999999993\n",
       " 10.0"
      ]
     },
     "metadata": {},
     "output_type": "display_data"
    }
   ],
   "source": [
    "u = x.^2 # Define u=x²\n",
    "\n",
    "Dₓ(u,n,Δx) #Order = 2 is default"
   ]
  },
  {
   "cell_type": "code",
   "execution_count": 6,
   "metadata": {},
   "outputs": [
    {
     "ename": "MethodError",
     "evalue": "MethodError: no method matching xlabel!(::Char)\nClosest candidates are:\n  xlabel!(!Matched::AbstractString; kw...) at C:\\Users\\Spiff\\.julia\\packages\\Plots\\yiUpW\\src\\shorthands.jl:418\n  xlabel!(!Matched::Union{Plots.Plot, Plots.Subplot}, !Matched::AbstractString; kw...) at C:\\Users\\Spiff\\.julia\\packages\\Plots\\yiUpW\\src\\Plots.jl:225",
     "output_type": "error",
     "traceback": [
      "MethodError: no method matching xlabel!(::Char)\n",
      "Closest candidates are:\n",
      "  xlabel!(!Matched::AbstractString; kw...) at C:\\Users\\Spiff\\.julia\\packages\\Plots\\yiUpW\\src\\shorthands.jl:418\n",
      "  xlabel!(!Matched::Union{Plots.Plot, Plots.Subplot}, !Matched::AbstractString; kw...) at C:\\Users\\Spiff\\.julia\\packages\\Plots\\yiUpW\\src\\Plots.jl:225\n",
      "\n",
      "Stacktrace:\n",
      "  [1] top-level scope\n",
      "    @ z:\\Git-stuff\\SBP_operators\\notebooks\\First Derivative 1D.ipynb:2\n",
      "  [2] eval\n",
      "    @ .\\boot.jl:360 [inlined]\n",
      "  [3] include_string(mapexpr::typeof(REPL.softscope), mod::Module, code::String, filename::String)\n",
      "    @ Base .\\loading.jl:1094\n",
      "  [4] #invokelatest#2\n",
      "    @ .\\essentials.jl:708 [inlined]\n",
      "  [5] invokelatest\n",
      "    @ .\\essentials.jl:706 [inlined]\n",
      "  [6] (::VSCodeServer.var\"#146#147\"{VSCodeServer.NotebookRunCellArguments, String})()\n",
      "    @ VSCodeServer c:\\Users\\Spiff\\.vscode\\extensions\\julialang.language-julia-1.5.6\\scripts\\packages\\VSCodeServer\\src\\serve_notebook.jl:18\n",
      "  [7] withpath(f::VSCodeServer.var\"#146#147\"{VSCodeServer.NotebookRunCellArguments, String}, path::String)\n",
      "    @ VSCodeServer c:\\Users\\Spiff\\.vscode\\extensions\\julialang.language-julia-1.5.6\\scripts\\packages\\VSCodeServer\\src\\repl.jl:185\n",
      "  [8] notebook_runcell_request(conn::VSCodeServer.JSONRPC.JSONRPCEndpoint{Base.PipeEndpoint, Base.PipeEndpoint}, params::VSCodeServer.NotebookRunCellArguments)\n",
      "    @ VSCodeServer c:\\Users\\Spiff\\.vscode\\extensions\\julialang.language-julia-1.5.6\\scripts\\packages\\VSCodeServer\\src\\serve_notebook.jl:14\n",
      "  [9] dispatch_msg(x::VSCodeServer.JSONRPC.JSONRPCEndpoint{Base.PipeEndpoint, Base.PipeEndpoint}, dispatcher::VSCodeServer.JSONRPC.MsgDispatcher, msg::Dict{String, Any})\n",
      "    @ VSCodeServer.JSONRPC c:\\Users\\Spiff\\.vscode\\extensions\\julialang.language-julia-1.5.6\\scripts\\packages\\JSONRPC\\src\\typed.jl:67\n",
      " [10] serve_notebook(pipename::String; crashreporting_pipename::String)\n",
      "    @ VSCodeServer c:\\Users\\Spiff\\.vscode\\extensions\\julialang.language-julia-1.5.6\\scripts\\packages\\VSCodeServer\\src\\serve_notebook.jl:94\n",
      " [11] top-level scope\n",
      "    @ c:\\Users\\Spiff\\.vscode\\extensions\\julialang.language-julia-1.5.6\\scripts\\notebook\\notebook.jl:12\n",
      " [12] include(mod::Module, _path::String)\n",
      "    @ Base .\\Base.jl:386\n",
      " [13] exec_options(opts::Base.JLOptions)\n",
      "    @ Base .\\client.jl:285\n",
      " [14] _start()\n",
      "    @ Base .\\client.jl:485"
     ]
    }
   ],
   "source": [
    "plot(uₑ - u)\n",
    "xlabel!('x')\n",
    "ylabel!('uₑ - u')"
   ]
  },
  {
   "cell_type": "code",
   "execution_count": 7,
   "metadata": {},
   "outputs": [],
   "source": []
  },
  {
   "cell_type": "code",
   "execution_count": 8,
   "metadata": {},
   "outputs": [],
   "source": []
  },
  {
   "cell_type": "markdown",
   "metadata": {},
   "source": [
    "## 4th order"
   ]
  },
  {
   "cell_type": "code",
   "execution_count": 9,
   "metadata": {},
   "outputs": [
    {
     "data": {
      "text/plain": [
       "(10, [0.0, 0.1, 0.2, 0.3, 0.4, 0.5, 0.6, 0.7, 0.8, 0.9, 1.0], 0.1)"
      ]
     },
     "metadata": {},
     "output_type": "display_data"
    }
   ],
   "source": [
    "n, x = buildgrid(10)"
   ]
  }
 ],
 "metadata": {
  "kernelspec": {
   "display_name": "Julia 1.6.1",
   "language": "julia",
   "name": "julia-1.6"
  },
  "language_info": {
   "file_extension": ".jl",
   "mimetype": "application/julia",
   "name": "julia",
   "version": "1.6.1"
  }
 },
 "nbformat": 4,
 "nbformat_minor": 4
}
