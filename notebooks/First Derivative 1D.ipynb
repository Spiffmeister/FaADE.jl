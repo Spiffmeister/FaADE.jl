{
 "cells": [
  {
   "cell_type": "code",
   "execution_count": 11,
   "metadata": {},
   "outputs": [
    {
     "ename": "ArgumentError",
     "evalue": "ArgumentError: Package SBP_operators not found in current path:\n- Run `import Pkg; Pkg.add(\"SBP_operators\")` to install the SBP_operators package.\n",
     "output_type": "error",
     "traceback": [
      "ArgumentError: Package SBP_operators not found in current path:\n",
      "- Run `import Pkg; Pkg.add(\"SBP_operators\")` to install the SBP_operators package.\n",
      "\n",
      "\n",
      "Stacktrace:\n",
      "  [1] require(into::Module, mod::Symbol)\n",
      "    @ Base .\\loading.jl:871\n",
      "  [2] eval\n",
      "    @ .\\boot.jl:360 [inlined]\n",
      "  [3] include_string(mapexpr::typeof(REPL.softscope), mod::Module, code::String, filename::String)\n",
      "    @ Base .\\loading.jl:1094\n",
      "  [4] #invokelatest#2\n",
      "    @ .\\essentials.jl:708 [inlined]\n",
      "  [5] invokelatest\n",
      "    @ .\\essentials.jl:706 [inlined]\n",
      "  [6] (::VSCodeServer.var\"#146#147\"{VSCodeServer.NotebookRunCellArguments, String})()\n",
      "    @ VSCodeServer c:\\Users\\Spiff\\.vscode\\extensions\\julialang.language-julia-1.5.6\\scripts\\packages\\VSCodeServer\\src\\serve_notebook.jl:18\n",
      "  [7] withpath(f::VSCodeServer.var\"#146#147\"{VSCodeServer.NotebookRunCellArguments, String}, path::String)\n",
      "    @ VSCodeServer c:\\Users\\Spiff\\.vscode\\extensions\\julialang.language-julia-1.5.6\\scripts\\packages\\VSCodeServer\\src\\repl.jl:185\n",
      "  [8] notebook_runcell_request(conn::VSCodeServer.JSONRPC.JSONRPCEndpoint{Base.PipeEndpoint, Base.PipeEndpoint}, params::VSCodeServer.NotebookRunCellArguments)\n",
      "    @ VSCodeServer c:\\Users\\Spiff\\.vscode\\extensions\\julialang.language-julia-1.5.6\\scripts\\packages\\VSCodeServer\\src\\serve_notebook.jl:14\n",
      "  [9] dispatch_msg(x::VSCodeServer.JSONRPC.JSONRPCEndpoint{Base.PipeEndpoint, Base.PipeEndpoint}, dispatcher::VSCodeServer.JSONRPC.MsgDispatcher, msg::Dict{String, Any})\n",
      "    @ VSCodeServer.JSONRPC c:\\Users\\Spiff\\.vscode\\extensions\\julialang.language-julia-1.5.6\\scripts\\packages\\JSONRPC\\src\\typed.jl:67\n",
      " [10] serve_notebook(pipename::String; crashreporting_pipename::String)\n",
      "    @ VSCodeServer c:\\Users\\Spiff\\.vscode\\extensions\\julialang.language-julia-1.5.6\\scripts\\packages\\VSCodeServer\\src\\serve_notebook.jl:94\n",
      " [11] top-level scope\n",
      "    @ c:\\Users\\Spiff\\.vscode\\extensions\\julialang.language-julia-1.5.6\\scripts\\notebook\\notebook.jl:12\n",
      " [12] include(mod::Module, _path::String)\n",
      "    @ Base .\\Base.jl:386\n",
      " [13] exec_options(opts::Base.JLOptions)\n",
      "    @ Base .\\client.jl:285\n",
      " [14] _start()\n",
      "    @ Base .\\client.jl:485"
     ]
    }
   ],
   "source": [
    "cd(\"..\")\n",
    "\n",
    "using LinearAlgebra\n",
    "using Plots\n",
    "\n",
    "using Pkg\n",
    "Pkg.activate(\".\")\n",
    "using SBP_operators"
   ]
  },
  {
   "cell_type": "code",
   "execution_count": 12,
   "metadata": {},
   "outputs": [
    {
     "data": {
      "text/plain": [
       "buildgrid (generic function with 1 method)"
      ]
     },
     "metadata": {},
     "output_type": "display_data"
    }
   ],
   "source": [
    "# Just a quick function for building the grid\n",
    "function buildgrid(n)\n",
    "    x = collect(range(0,stop=1,length=n+1))\n",
    "    Δx = x[2]-x[1]\n",
    "    n = n+1\n",
    "    return n, x, Δx\n",
    "end"
   ]
  },
  {
   "cell_type": "markdown",
   "metadata": {},
   "source": [
    "## 2nd order"
   ]
  },
  {
   "cell_type": "code",
   "execution_count": 13,
   "metadata": {},
   "outputs": [
    {
     "data": {
      "text/plain": [
       "11-element Vector{Float64}:\n",
       "  0.0\n",
       "  0.0\n",
       "  1.1102230246251565e-16\n",
       "  0.0\n",
       "  0.0\n",
       "  2.220446049250313e-16\n",
       "  2.220446049250313e-16\n",
       " -2.220446049250313e-16\n",
       " -2.220446049250313e-16\n",
       "  2.220446049250313e-16\n",
       "  2.220446049250313e-16"
      ]
     },
     "metadata": {},
     "output_type": "display_data"
    }
   ],
   "source": [
    "n, x, Δx = buildgrid(10)\n",
    "\n",
    "u = x\n",
    "\n",
    "∂ₓuₑ = ones(n) #The exact derivative value\n",
    "\n",
    "∂ₓu = Dₓ(u,n,Δx)\n",
    "\n",
    "∂ₓuₑ .- ∂ₓu"
   ]
  },
  {
   "cell_type": "code",
   "execution_count": 14,
   "metadata": {},
   "outputs": [
    {
     "data": {
      "text/plain": [
       "11-element Vector{Float64}:\n",
       "  0.0\n",
       "  0.0\n",
       "  2.220446049250313e-16\n",
       "  0.0\n",
       "  0.0\n",
       "  4.440892098500626e-16\n",
       "  4.440892098500626e-16\n",
       " -4.440892098500626e-16\n",
       " -4.440892098500626e-16\n",
       "  4.440892098500626e-16\n",
       "  4.440892098500626e-16"
      ]
     },
     "metadata": {},
     "output_type": "display_data"
    }
   ],
   "source": [
    "n, x, Δx = buildgrid(10)\n",
    "\n",
    "u = 2x\n",
    "\n",
    "∂ₓuₑ = 2ones(n)\n",
    "\n",
    "∂ₓu = Dₓ(u,n,Δx)\n",
    "\n",
    "∂ₓuₑ .- ∂ₓu"
   ]
  },
  {
   "cell_type": "code",
   "execution_count": 16,
   "metadata": {},
   "outputs": [
    {
     "data": {
      "text/plain": [
       "11-element Vector{Float64}:\n",
       " -0.10000000000000002\n",
       " -2.7755575615628914e-17\n",
       "  1.1102230246251565e-16\n",
       " -1.1102230246251565e-16\n",
       "  1.1102230246251565e-16\n",
       "  2.220446049250313e-16\n",
       "  4.440892098500626e-16\n",
       " -6.661338147750939e-16\n",
       " -4.440892098500626e-16\n",
       "  6.661338147750939e-16\n",
       "  0.10000000000000053"
      ]
     },
     "metadata": {},
     "output_type": "display_data"
    }
   ],
   "source": [
    "n, x, Δx = buildgrid(10)\n",
    "\n",
    "u = x.^2\n",
    "\n",
    "∂ₓuₑ = 2x\n",
    "\n",
    "∂ₓu = Dₓ(u,n,Δx)\n",
    "\n",
    "∂ₓuₑ .- ∂ₓu"
   ]
  },
  {
   "cell_type": "markdown",
   "metadata": {},
   "source": [
    "## 4th order"
   ]
  },
  {
   "cell_type": "code",
   "execution_count": 17,
   "metadata": {},
   "outputs": [
    {
     "data": {
      "text/plain": [
       "16-element Vector{Float64}:\n",
       "  0.0\n",
       "  0.0\n",
       " -2.220446049250313e-16\n",
       "  2.220446049250313e-16\n",
       "  2.220446049250313e-16\n",
       " -2.220446049250313e-16\n",
       " -4.440892098500626e-16\n",
       "  2.220446049250313e-16\n",
       "  6.661338147750939e-16\n",
       "  0.0\n",
       "  4.440892098500626e-16\n",
       " -2.220446049250313e-16\n",
       " -1.3322676295501878e-15\n",
       "  9.992007221626409e-16\n",
       "  2.220446049250313e-16\n",
       " -1.3322676295501878e-15"
      ]
     },
     "metadata": {},
     "output_type": "display_data"
    }
   ],
   "source": [
    "n, x, Δx = buildgrid(15)\n",
    "\n",
    "u = x\n",
    "\n",
    "∂ₓuₑ = ones(n)\n",
    "\n",
    "∂ₓu = Dₓ(u,n,Δx,order=4)\n",
    "\n",
    "∂ₓuₑ .- ∂ₓu"
   ]
  },
  {
   "cell_type": "code",
   "execution_count": null,
   "metadata": {},
   "outputs": [],
   "source": [
    "\n",
    "n, x, Δx = buildgrid(15)\n",
    "\n",
    "u = x.^2\n",
    "\n",
    "∂ₓuₑ = 2x\n",
    "\n",
    "∂ₓu = Dₓ(u,n,Δx)\n",
    "\n",
    "∂ₓuₑ .≈ ∂ₓu\n"
   ]
  },
  {
   "cell_type": "code",
   "execution_count": null,
   "metadata": {},
   "outputs": [],
   "source": [
    "\n",
    "n, x, Δx = buildgrid(20)\n",
    "\n",
    "u = x.^3\n",
    "\n",
    "∂ₓuₑ = 3x.^2\n",
    "\n",
    "∂ₓu = Dₓ(u,n,Δx)\n",
    "\n",
    "norm(∂ₓu .- ∂ₓuₑ)\n"
   ]
  },
  {
   "cell_type": "code",
   "execution_count": null,
   "metadata": {},
   "outputs": [],
   "source": [
    "\n",
    "n, x, Δx = buildgrid(20)\n",
    "\n",
    "u = x.^4\n",
    "\n",
    "∂ₓuₑ = 4x.^3\n",
    "\n",
    "∂ₓu = Dₓ(u,n,Δx)\n",
    "\n",
    "∂ₓuₑ .≈ ∂ₓu\n",
    "\n"
   ]
  },
  {
   "cell_type": "code",
   "execution_count": null,
   "metadata": {},
   "outputs": [],
   "source": []
  }
 ],
 "metadata": {
  "kernelspec": {
   "display_name": "Julia 1.6.1",
   "language": "julia",
   "name": "julia-1.6"
  },
  "language_info": {
   "file_extension": ".jl",
   "mimetype": "application/julia",
   "name": "julia",
   "version": "1.6.1"
  }
 },
 "nbformat": 4,
 "nbformat_minor": 4
}
