{
 "cells": [
  {
   "cell_type": "markdown",
   "metadata": {},
   "source": [
    "# Anisotropic diffusion equation in 1D example"
   ]
  },
  {
   "cell_type": "code",
   "execution_count": 2,
   "metadata": {},
   "outputs": [],
   "source": [
    "using LinearAlgebra\n",
    "using Plots\n",
    "\n",
    "using Pkg\n",
    "Pkg.activate()\n",
    "using SBP_operators"
   ]
  },
  {
   "cell_type": "markdown",
   "metadata": {},
   "source": [
    "Going to solve the diffusion equation,\n",
    "$$\n",
    "    \\frac{\\partial u}{\\partial t} = \\frac{\\partial}{\\partial x}\\left(k \\frac{\\partial u}{\\partial x}\\right),\n",
    "$$\n",
    "with boundary conditions,\n",
    "$$\n",
    "    u(0,t) = \\cos(t),  \\qquad u(L,t) = 0\n",
    "$$\n",
    "and initial condition,\n",
    "$$\n",
    "    u(x,0) = 0.\n",
    "$$\n",
    "This has corresponding exact solution\n",
    "$$\n",
    "    u(x,t) = \n",
    "$$"
   ]
  },
  {
   "cell_type": "markdown",
   "metadata": {},
   "source": [
    "## Appendix: Solution for PDE\n",
    "\n",
    "The homogeneous equation has eigenfunctions\n",
    "\n",
    "$$\n",
    "    X(x) = \\sin(\\lambda^2 x), \\qquad \\lambda^2 = \\frac{n\\pi}{L}\n",
    "$$\n",
    "\n",
    "\n",
    "Hence, setting $u(x,t) = v(x,t) + w(x,t)$, letting $w(x,t) = \\frac{x-L}{L}\\cos(t)$ to eliminate the boundary conditions and assuming $v(x,t) = \\sum_N T_n(t) \\sin(\\lambda^2 x)$ we get, \n",
    "$$\n",
    "\\begin{align}\n",
    "    \\sum_N \\frac{\\partial T_n}{\\partial t}\\sin(\\lambda^2 x) + k T_n(t) [\\lambda^4 \\sin(\\lambda^2 x)] &= -\\frac{x-L}{L}\\sin(t),\n",
    "\\end{align}\n",
    "$$\n",
    "with boundary and initial conditions,\n",
    "$$\n",
    "\\begin{align}\n",
    "    v(0,t) &= u(0,t) - \\cos(t) = 0   \\\\\n",
    "    v(0,t) &= u(L,t) = 0    \\\\\n",
    "    u(x,0) = 0 &= v(x,0) + w(x,0) \\implies v(x,0) = -\\frac{x-L}{L} \n",
    "\\end{align}\n",
    "$$\n",
    "\n",
    "\n",
    "\n",
    "This is now a system of DEs which can be solve by integrating factor"
   ]
  },
  {
   "cell_type": "code",
   "execution_count": 5,
   "metadata": {},
   "outputs": [],
   "source": [
    "mutable struct solution\n",
    "    x   :: Vector{Float64}  # Grid\n",
    "    u   :: Matrix{Float64}  # Solution\n",
    "    Δx  :: Float64          # Grid size\n",
    "    n   :: Int64            # Size of grid\n",
    "    Δt  :: Float64          # Step size\n",
    "\n",
    "    function solution(domain,initial_condition,Δt,Δx;t_final=10)\n",
    "        x = collect(range(domain[1],domain[2],step=Δx))\n",
    "\n",
    "        #Julia uses column-wise storage\n",
    "        u = zeros(Float64,length(x),ceil(Int64,t_final/Δt))\n",
    "\n",
    "        if typeof(initial_condition) <: Function\n",
    "            u[:,1] = initial_condition(x)\n",
    "        else\n",
    "            u[:,1] = initial_condition\n",
    "        end\n",
    "        \n",
    "        time_length = Int64(t_final/Δt) #Use t_final as a guess if unknown how long it will take, this helps with pre-allocation\n",
    "\n",
    "        new(x,u,Δx,length(x),Δt)\n",
    "    end\n",
    "end"
   ]
  },
  {
   "cell_type": "markdown",
   "metadata": {},
   "source": [
    "The RHS of the PDE with the included boundary term is $k\\partial_{xx} u + SAT$. In this case the $SAT=\\tau(u_0 - cos(t))$."
   ]
  },
  {
   "cell_type": "code",
   "execution_count": null,
   "metadata": {},
   "outputs": [],
   "source": [
    "function ∂ₓₓu(u,x,t,g,Δx,Δt,k;order=2)\n",
    "\n",
    "    if order == 2\n",
    "        τ₀ = 1.0/(0.5*Δx)\n",
    "    elseif order == 4\n",
    "        τ₁ = 0.5\n",
    "    end\n",
    "\n",
    "    uₓₓ = -k*SBP_operators.Dₓₓ!(uₓₓ,u,n,Δx,order=order)\n",
    "    \n",
    "    # SAT term\n",
    "    u[1] = u[1] - τ(u[1] - g(t))\n",
    "end"
   ]
  },
  {
   "cell_type": "markdown",
   "metadata": {},
   "source": [
    "Set the initial parameters for the simulation"
   ]
  },
  {
   "cell_type": "code",
   "execution_count": 7,
   "metadata": {},
   "outputs": [
    {
     "data": {
      "text/plain": [
       "2"
      ]
     },
     "execution_count": 7,
     "metadata": {},
     "output_type": "execute_result"
    }
   ],
   "source": [
    "# Spatial domain\n",
    "𝒟 = [0,2π]\n",
    "n =  100\n",
    "Δx = 𝒟[2]/n\n",
    "\n",
    "# Time domain\n",
    "Δt = 0.1\n",
    "t_f = 10 #Length of the simulation\n",
    "\n",
    "u₀(x) = -cos.(x) #Set initial condition\n",
    "\n",
    "soln = solution(domain,u₀,Δt,Δx) #Build solution struct\n",
    "\n",
    "\n",
    "order = 2 #Order of the integrator\n",
    "method = :euler #Time stepping method\n"
   ]
  },
  {
   "cell_type": "markdown",
   "metadata": {},
   "source": []
  },
  {
   "cell_type": "code",
   "execution_count": null,
   "metadata": {},
   "outputs": [],
   "source": [
    "function time_solver(soln,RHS,Δt,Δx,k,t_f,boundary;method=:euler)\n",
    "\n",
    "    N = ceil(Int64,t_f/Δt)\n",
    "    # n = size(u)[1]\n",
    "    n = soln.n\n",
    "    Δx = soln.Δx\n",
    "\n",
    "    u = soln.u\n",
    "\n",
    "    \n",
    "    # Eulers method\n",
    "    for i = 1:N-1\n",
    "        t = i*soln.Δt\n",
    "        if method == :euler\n",
    "            soln.u[:,i+1] = soln.u[:,i] + Δt*RHS(soln.u[:,i+1],soln.u[:,i],n,Δx,Δt,k,t,x,boundary)\n",
    "\n",
    "        elseif method == :rk4\n",
    "            k1 = RHS(u[:,i+1],u[:,i]        ,n,Δx,Δt,k,t        ,x,boundary)\n",
    "            k2 = RHS(u[:,i+1],u[:,i]+Δt/2*k1,n,Δx,Δt,k,t+0.5Δt  ,x,boundary)\n",
    "            k3 = RHS(u[:,i+1],u[:,i]+Δt/2*k2,n,Δx,Δt,k,t+0.5Δt  ,x,boundary)\n",
    "            k4 = RHS(u[:,i+1],u[:,i]+Δt*k3  ,n,Δx,Δt,k,t+Δt     ,x,boundary)\n",
    "\n",
    "            u[:,i+1] = u[:,i] + Δt/6 * (k1 + 2k2 + 2k3 + k4)\n",
    "\n",
    "        end\n",
    "    end\n",
    "\n",
    "    return soln\n",
    "end"
   ]
  },
  {
   "cell_type": "markdown",
   "metadata": {},
   "source": []
  }
 ],
 "metadata": {
  "kernelspec": {
   "display_name": "Julia 1.6.1",
   "language": "julia",
   "name": "julia-1.6"
  },
  "language_info": {
   "file_extension": ".jl",
   "mimetype": "application/julia",
   "name": "julia",
   "version": "1.6.1"
  },
  "orig_nbformat": 4
 },
 "nbformat": 4,
 "nbformat_minor": 2
}
